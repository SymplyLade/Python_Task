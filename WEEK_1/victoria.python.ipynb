{
 "cells": [
  {
   "cell_type": "markdown",
   "id": "9407fd56",
   "metadata": {},
   "source": [
    "print (\"hello world)"
   ]
  },
  {
   "cell_type": "markdown",
   "id": "e66fd146",
   "metadata": {},
   "source": [
    "print (\"hello world\")"
   ]
  }
 ],
 "metadata": {
  "language_info": {
   "name": "python"
  }
 },
 "nbformat": 4,
 "nbformat_minor": 5
}
